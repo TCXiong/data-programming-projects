{
 "cells": [
  {
   "cell_type": "code",
   "execution_count": 1,
   "id": "f3a3224f",
   "metadata": {},
   "outputs": [],
   "source": [
    "%load_ext autoreload\n",
    "%autoreload 2"
   ]
  },
  {
   "cell_type": "code",
   "execution_count": 2,
   "id": "3865a6e2",
   "metadata": {},
   "outputs": [
    {
     "data": {
      "text/plain": [
       "['2.txt', '4.txt']"
      ]
     },
     "execution_count": 2,
     "metadata": {},
     "output_type": "execute_result"
    }
   ],
   "source": [
    "\n",
    "arr = list()\n",
    "count = 0\n",
    "with open(\"file_nodes/1.txt\") as f:\n",
    "    for line in f:\n",
    "        for word in line.split():\n",
    "            if count > 0:\n",
    "                arr = word.split(\",\")\n",
    "            count+=1\n",
    "        \n",
    "        \n",
    "        \n",
    "        \n",
    "arr"
   ]
  },
  {
   "cell_type": "code",
   "execution_count": 3,
   "id": "e585ab05",
   "metadata": {},
   "outputs": [
    {
     "name": "stdout",
     "output_type": "stream",
     "text": [
      "['1.txt', '3.txt', '5.txt']\n"
     ]
    }
   ],
   "source": [
    "import scrape\n",
    "f = scrape.FileSearcher()\n",
    "print(f.go(\"2.txt\"))"
   ]
  },
  {
   "cell_type": "code",
   "execution_count": 4,
   "id": "d664ef47",
   "metadata": {},
   "outputs": [
    {
     "data": {
      "text/plain": [
       "'MADCITY'"
      ]
     },
     "execution_count": 4,
     "metadata": {},
     "output_type": "execute_result"
    }
   ],
   "source": [
    "f = scrape.FileSearcher()\n",
    "f.bfs_search(\"1.txt\")\n",
    "msg = f.message()\n",
    "msg"
   ]
  },
  {
   "cell_type": "code",
   "execution_count": 5,
   "id": "3272d820",
   "metadata": {},
   "outputs": [],
   "source": [
    "import pandas as pd\n",
    "df = pd.DataFrame([\n",
    "        [0,1,0,0],\n",
    "        [0,0,1,1],\n",
    "        [0,0,0,1],\n",
    "        [0,0,1,0],\n",
    "    ], index=[\"A\", \"B\", \"C\", \"D\"], columns=[\"A\", \"B\", \"C\", \"D\"])\n",
    "\n"
   ]
  },
  {
   "cell_type": "code",
   "execution_count": 6,
   "id": "c6ab29e9",
   "metadata": {},
   "outputs": [],
   "source": [
    "m = scrape.MatrixSearcher(df)"
   ]
  },
  {
   "cell_type": "code",
   "execution_count": 7,
   "id": "e3595da8",
   "metadata": {},
   "outputs": [
    {
     "data": {
      "text/plain": [
       "['D', 'C']"
      ]
     },
     "execution_count": 7,
     "metadata": {},
     "output_type": "execute_result"
    }
   ],
   "source": [
    "m.dfs_search(\"D\")\n",
    "m.order"
   ]
  },
  {
   "cell_type": "code",
   "execution_count": null,
   "id": "341cf09f",
   "metadata": {},
   "outputs": [],
   "source": []
  },
  {
   "cell_type": "code",
   "execution_count": 35,
   "id": "e211d2ab",
   "metadata": {},
   "outputs": [
    {
     "ename": "WebDriverException",
     "evalue": "Message: unknown error: net::ERR_CONNECTION_REFUSED\n  (Session info: headless chrome=99.0.4844.51)\nStacktrace:\n#0 0x5625af7e2113 <unknown>\n#1 0x5625af547428 <unknown>\n#2 0x5625af5413e0 <unknown>\n#3 0x5625af532b5d <unknown>\n#4 0x5625af533a0e <unknown>\n#5 0x5625af532df6 <unknown>\n#6 0x5625af532345 <unknown>\n#7 0x5625af5310f3 <unknown>\n#8 0x5625af531542 <unknown>\n#9 0x5625af548dca <unknown>\n#10 0x5625af5ae1df <unknown>\n#11 0x5625af59a7f2 <unknown>\n#12 0x5625af5ad907 <unknown>\n#13 0x5625af59a6e3 <unknown>\n#14 0x5625af57009e <unknown>\n#15 0x5625af571085 <unknown>\n#16 0x5625af80ecb6 <unknown>\n#17 0x5625af8260bd <unknown>\n#18 0x5625af810b0e <unknown>\n#19 0x5625af826a44 <unknown>\n#20 0x5625af804922 <unknown>\n#21 0x5625af83fbe8 <unknown>\n#22 0x5625af83fd43 <unknown>\n#23 0x5625af858e63 <unknown>\n#24 0x7f017b243609 <unknown>\n",
     "output_type": "error",
     "traceback": [
      "\u001b[0;31m---------------------------------------------------------------------------\u001b[0m",
      "\u001b[0;31mWebDriverException\u001b[0m                        Traceback (most recent call last)",
      "Input \u001b[0;32mIn [35]\u001b[0m, in \u001b[0;36m<module>\u001b[0;34m\u001b[0m\n\u001b[1;32m     16\u001b[0m start_url \u001b[38;5;241m=\u001b[39m \u001b[38;5;124m\"\u001b[39m\u001b[38;5;124mhttp://35.222.16.3:5000/Node_1.html\u001b[39m\u001b[38;5;124m\"\u001b[39m\n\u001b[1;32m     18\u001b[0m s \u001b[38;5;241m=\u001b[39m scrape\u001b[38;5;241m.\u001b[39mWebSearcher(driver)\n\u001b[0;32m---> 19\u001b[0m \u001b[38;5;28mprint\u001b[39m(\u001b[43ms\u001b[49m\u001b[38;5;241;43m.\u001b[39;49m\u001b[43mgo\u001b[49m\u001b[43m(\u001b[49m\u001b[43mstart_url\u001b[49m\u001b[43m)\u001b[49m)\n\u001b[1;32m     21\u001b[0m s \u001b[38;5;241m=\u001b[39m scrape\u001b[38;5;241m.\u001b[39mWebSearcher(driver)\n\u001b[1;32m     22\u001b[0m s\u001b[38;5;241m.\u001b[39mbfs_search(start_url)\n",
      "File \u001b[0;32m~/s22/p3/scrape.py:107\u001b[0m, in \u001b[0;36mWebSearcher.go\u001b[0;34m(self, node)\u001b[0m\n\u001b[1;32m    105\u001b[0m \u001b[38;5;28;01mdef\u001b[39;00m \u001b[38;5;21mgo\u001b[39m(\u001b[38;5;28mself\u001b[39m, node):\n\u001b[1;32m    106\u001b[0m     children \u001b[38;5;241m=\u001b[39m []\n\u001b[0;32m--> 107\u001b[0m     \u001b[38;5;28;43mself\u001b[39;49m\u001b[38;5;241;43m.\u001b[39;49m\u001b[43mdriver\u001b[49m\u001b[38;5;241;43m.\u001b[39;49m\u001b[43mget\u001b[49m\u001b[43m(\u001b[49m\u001b[43mnode\u001b[49m\u001b[43m)\u001b[49m\n\u001b[1;32m    108\u001b[0m     links \u001b[38;5;241m=\u001b[39m \u001b[38;5;28mself\u001b[39m\u001b[38;5;241m.\u001b[39mdriver\u001b[38;5;241m.\u001b[39mfind_elements(by\u001b[38;5;241m=\u001b[39m\u001b[38;5;124m\"\u001b[39m\u001b[38;5;124mtag name\u001b[39m\u001b[38;5;124m\"\u001b[39m, value\u001b[38;5;241m=\u001b[39m\u001b[38;5;124m\"\u001b[39m\u001b[38;5;124ma\u001b[39m\u001b[38;5;124m\"\u001b[39m)\n\u001b[1;32m    109\u001b[0m     \u001b[38;5;28;01mfor\u001b[39;00m link \u001b[38;5;129;01min\u001b[39;00m links:\n",
      "File \u001b[0;32m~/.local/lib/python3.8/site-packages/selenium/webdriver/remote/webdriver.py:437\u001b[0m, in \u001b[0;36mWebDriver.get\u001b[0;34m(self, url)\u001b[0m\n\u001b[1;32m    433\u001b[0m \u001b[38;5;28;01mdef\u001b[39;00m \u001b[38;5;21mget\u001b[39m(\u001b[38;5;28mself\u001b[39m, url: \u001b[38;5;28mstr\u001b[39m) \u001b[38;5;241m-\u001b[39m\u001b[38;5;241m>\u001b[39m \u001b[38;5;28;01mNone\u001b[39;00m:\n\u001b[1;32m    434\u001b[0m     \u001b[38;5;124;03m\"\"\"\u001b[39;00m\n\u001b[1;32m    435\u001b[0m \u001b[38;5;124;03m    Loads a web page in the current browser session.\u001b[39;00m\n\u001b[1;32m    436\u001b[0m \u001b[38;5;124;03m    \"\"\"\u001b[39;00m\n\u001b[0;32m--> 437\u001b[0m     \u001b[38;5;28;43mself\u001b[39;49m\u001b[38;5;241;43m.\u001b[39;49m\u001b[43mexecute\u001b[49m\u001b[43m(\u001b[49m\u001b[43mCommand\u001b[49m\u001b[38;5;241;43m.\u001b[39;49m\u001b[43mGET\u001b[49m\u001b[43m,\u001b[49m\u001b[43m \u001b[49m\u001b[43m{\u001b[49m\u001b[38;5;124;43m'\u001b[39;49m\u001b[38;5;124;43murl\u001b[39;49m\u001b[38;5;124;43m'\u001b[39;49m\u001b[43m:\u001b[49m\u001b[43m \u001b[49m\u001b[43murl\u001b[49m\u001b[43m}\u001b[49m\u001b[43m)\u001b[49m\n",
      "File \u001b[0;32m~/.local/lib/python3.8/site-packages/selenium/webdriver/remote/webdriver.py:425\u001b[0m, in \u001b[0;36mWebDriver.execute\u001b[0;34m(self, driver_command, params)\u001b[0m\n\u001b[1;32m    423\u001b[0m response \u001b[38;5;241m=\u001b[39m \u001b[38;5;28mself\u001b[39m\u001b[38;5;241m.\u001b[39mcommand_executor\u001b[38;5;241m.\u001b[39mexecute(driver_command, params)\n\u001b[1;32m    424\u001b[0m \u001b[38;5;28;01mif\u001b[39;00m response:\n\u001b[0;32m--> 425\u001b[0m     \u001b[38;5;28;43mself\u001b[39;49m\u001b[38;5;241;43m.\u001b[39;49m\u001b[43merror_handler\u001b[49m\u001b[38;5;241;43m.\u001b[39;49m\u001b[43mcheck_response\u001b[49m\u001b[43m(\u001b[49m\u001b[43mresponse\u001b[49m\u001b[43m)\u001b[49m\n\u001b[1;32m    426\u001b[0m     response[\u001b[38;5;124m'\u001b[39m\u001b[38;5;124mvalue\u001b[39m\u001b[38;5;124m'\u001b[39m] \u001b[38;5;241m=\u001b[39m \u001b[38;5;28mself\u001b[39m\u001b[38;5;241m.\u001b[39m_unwrap_value(\n\u001b[1;32m    427\u001b[0m         response\u001b[38;5;241m.\u001b[39mget(\u001b[38;5;124m'\u001b[39m\u001b[38;5;124mvalue\u001b[39m\u001b[38;5;124m'\u001b[39m, \u001b[38;5;28;01mNone\u001b[39;00m))\n\u001b[1;32m    428\u001b[0m     \u001b[38;5;28;01mreturn\u001b[39;00m response\n",
      "File \u001b[0;32m~/.local/lib/python3.8/site-packages/selenium/webdriver/remote/errorhandler.py:247\u001b[0m, in \u001b[0;36mErrorHandler.check_response\u001b[0;34m(self, response)\u001b[0m\n\u001b[1;32m    245\u001b[0m         alert_text \u001b[38;5;241m=\u001b[39m value[\u001b[38;5;124m'\u001b[39m\u001b[38;5;124malert\u001b[39m\u001b[38;5;124m'\u001b[39m]\u001b[38;5;241m.\u001b[39mget(\u001b[38;5;124m'\u001b[39m\u001b[38;5;124mtext\u001b[39m\u001b[38;5;124m'\u001b[39m)\n\u001b[1;32m    246\u001b[0m     \u001b[38;5;28;01mraise\u001b[39;00m exception_class(message, screen, stacktrace, alert_text)  \u001b[38;5;66;03m# type: ignore[call-arg]  # mypy is not smart enough here\u001b[39;00m\n\u001b[0;32m--> 247\u001b[0m \u001b[38;5;28;01mraise\u001b[39;00m exception_class(message, screen, stacktrace)\n",
      "\u001b[0;31mWebDriverException\u001b[0m: Message: unknown error: net::ERR_CONNECTION_REFUSED\n  (Session info: headless chrome=99.0.4844.51)\nStacktrace:\n#0 0x5625af7e2113 <unknown>\n#1 0x5625af547428 <unknown>\n#2 0x5625af5413e0 <unknown>\n#3 0x5625af532b5d <unknown>\n#4 0x5625af533a0e <unknown>\n#5 0x5625af532df6 <unknown>\n#6 0x5625af532345 <unknown>\n#7 0x5625af5310f3 <unknown>\n#8 0x5625af531542 <unknown>\n#9 0x5625af548dca <unknown>\n#10 0x5625af5ae1df <unknown>\n#11 0x5625af59a7f2 <unknown>\n#12 0x5625af5ad907 <unknown>\n#13 0x5625af59a6e3 <unknown>\n#14 0x5625af57009e <unknown>\n#15 0x5625af571085 <unknown>\n#16 0x5625af80ecb6 <unknown>\n#17 0x5625af8260bd <unknown>\n#18 0x5625af810b0e <unknown>\n#19 0x5625af826a44 <unknown>\n#20 0x5625af804922 <unknown>\n#21 0x5625af83fbe8 <unknown>\n#22 0x5625af83fd43 <unknown>\n#23 0x5625af858e63 <unknown>\n#24 0x7f017b243609 <unknown>\n"
     ]
    }
   ],
   "source": [
    "import os\n",
    "from selenium.webdriver.chrome.options import Options\n",
    "from selenium.webdriver.chrome.service import Service\n",
    "from selenium import webdriver\n",
    "import scrape\n",
    "\n",
    "# kill previous chrome instance if still around (to conserve memory)\n",
    "os.system(\"pkill -f -9 chromium\")\n",
    "\n",
    "options = Options()\n",
    "options.headless = True\n",
    "service = Service(executable_path=\"chromium.chromedriver\")\n",
    "driver = webdriver.Chrome(options=options, service=service)\n",
    "\n",
    "# TODO: use IP address of your VM\n",
    "start_url = \"http://35.222.16.3:5000/Node_1.html\"\n",
    "\n",
    "s = scrape.WebSearcher(driver)\n",
    "print(s.go(start_url))\n",
    "\n",
    "s = scrape.WebSearcher(driver)\n",
    "s.bfs_search(start_url)\n",
    "\n",
    "tbl = s.table()\n",
    "tbl\n"
   ]
  },
  {
   "cell_type": "code",
   "execution_count": 34,
   "id": "b17f99bb",
   "metadata": {},
   "outputs": [
    {
     "data": {
      "text/plain": [
       "'BASCOM HALL'"
      ]
     },
     "execution_count": 34,
     "metadata": {},
     "output_type": "execute_result"
    }
   ],
   "source": [
    "url = \"http://35.222.16.3:5000/\"\n",
    "scrape.reveal_secrets(driver, url, tbl)"
   ]
  },
  {
   "cell_type": "code",
   "execution_count": null,
   "id": "63399065",
   "metadata": {},
   "outputs": [],
   "source": []
  },
  {
   "cell_type": "code",
   "execution_count": null,
   "id": "2f7bf8f9",
   "metadata": {},
   "outputs": [],
   "source": []
  }
 ],
 "metadata": {
  "kernelspec": {
   "display_name": "Python 3 (ipykernel)",
   "language": "python",
   "name": "python3"
  },
  "language_info": {
   "codemirror_mode": {
    "name": "ipython",
    "version": 3
   },
   "file_extension": ".py",
   "mimetype": "text/x-python",
   "name": "python",
   "nbconvert_exporter": "python",
   "pygments_lexer": "ipython3",
   "version": "3.8.10"
  }
 },
 "nbformat": 4,
 "nbformat_minor": 5
}
