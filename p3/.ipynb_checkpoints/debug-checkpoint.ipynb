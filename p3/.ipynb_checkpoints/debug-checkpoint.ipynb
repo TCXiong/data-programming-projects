{
 "cells": [
  {
   "cell_type": "code",
   "execution_count": 1,
   "id": "f3a3224f",
   "metadata": {},
   "outputs": [],
   "source": [
    "%load_ext autoreload\n",
    "%autoreload 2"
   ]
  },
  {
   "cell_type": "code",
   "execution_count": 2,
   "id": "3865a6e2",
   "metadata": {},
   "outputs": [
    {
     "data": {
      "text/plain": [
       "['2.txt', '4.txt']"
      ]
     },
     "execution_count": 2,
     "metadata": {},
     "output_type": "execute_result"
    }
   ],
   "source": [
    "\n",
    "arr = list()\n",
    "count = 0\n",
    "with open(\"file_nodes/1.txt\") as f:\n",
    "    for line in f:\n",
    "        for word in line.split():\n",
    "            if count > 0:\n",
    "                arr = word.split(\",\")\n",
    "            count+=1\n",
    "        \n",
    "        \n",
    "        \n",
    "        \n",
    "arr"
   ]
  },
  {
   "cell_type": "code",
   "execution_count": 3,
   "id": "e585ab05",
   "metadata": {},
   "outputs": [
    {
     "name": "stdout",
     "output_type": "stream",
     "text": [
      "['1.txt', '3.txt', '5.txt']\n"
     ]
    }
   ],
   "source": [
    "import scrape\n",
    "f = scrape.FileSearcher()\n",
    "print(f.go(\"2.txt\"))"
   ]
  },
  {
   "cell_type": "code",
   "execution_count": 4,
   "id": "d664ef47",
   "metadata": {},
   "outputs": [
    {
     "data": {
      "text/plain": [
       "'MADCITY'"
      ]
     },
     "execution_count": 4,
     "metadata": {},
     "output_type": "execute_result"
    }
   ],
   "source": [
    "f = scrape.FileSearcher()\n",
    "f.bfs_search(\"1.txt\")\n",
    "msg = f.message()\n",
    "msg"
   ]
  },
  {
   "cell_type": "code",
   "execution_count": 5,
   "id": "3272d820",
   "metadata": {},
   "outputs": [],
   "source": [
    "import pandas as pd\n",
    "df = pd.DataFrame([\n",
    "        [0,1,0,0],\n",
    "        [0,0,1,1],\n",
    "        [0,0,0,1],\n",
    "        [0,0,1,0],\n",
    "    ], index=[\"A\", \"B\", \"C\", \"D\"], columns=[\"A\", \"B\", \"C\", \"D\"])\n",
    "\n"
   ]
  },
  {
   "cell_type": "code",
   "execution_count": 6,
   "id": "c6ab29e9",
   "metadata": {},
   "outputs": [],
   "source": [
    "m = scrape.MatrixSearcher(df)"
   ]
  },
  {
   "cell_type": "code",
   "execution_count": 7,
   "id": "e3595da8",
   "metadata": {},
   "outputs": [
    {
     "data": {
      "text/plain": [
       "['D', 'C']"
      ]
     },
     "execution_count": 7,
     "metadata": {},
     "output_type": "execute_result"
    }
   ],
   "source": [
    "m.dfs_search(\"D\")\n",
    "m.order"
   ]
  },
  {
   "cell_type": "code",
   "execution_count": 10,
   "id": "40182a7e",
   "metadata": {},
   "outputs": [
    {
     "data": {
      "text/plain": [
       "['http://35.238.176.90:5000/Node_1.html',\n",
       " 'http://35.238.176.90:5000/Node_2.html',\n",
       " 'http://35.238.176.90:5000/Node_4.html',\n",
       " 'http://35.238.176.90:5000/Node_3.html',\n",
       " 'http://35.238.176.90:5000/Node_5.html',\n",
       " 'http://35.238.176.90:5000/Node_6.html',\n",
       " 'http://35.238.176.90:5000/Node_7.html']"
      ]
     },
     "execution_count": 10,
     "metadata": {},
     "output_type": "execute_result"
    }
   ],
   "source": [
    "from selenium.webdriver.chrome.options import Options\n",
    "from selenium.webdriver.chrome.service import Service\n",
    "from selenium import webdriver\n",
    "import scrape\n",
    "options = Options()\n",
    "options.headless = True\n",
    "service = Service(executable_path=\"chromium.chromedriver\")\n",
    "driver = webdriver.Chrome(options=options, service=service)\n",
    "\n",
    "ws = scrape.WebSearcher(driver)\n",
    "# li = list()\n",
    "# li = ws.go(\"http://35.238.176.90:5000/Node_1.html\")\n",
    "ws.bfs_search(\"http://35.238.176.90:5000/Node_1.html\")\n",
    "ws.order"
   ]
  },
  {
   "cell_type": "code",
   "execution_count": 9,
   "id": "341cf09f",
   "metadata": {},
   "outputs": [
    {
     "data": {
      "text/plain": [
       "['http://35.238.176.90:5000/Node_2.html',\n",
       " 'http://35.238.176.90:5000/Node_4.html']"
      ]
     },
     "execution_count": 9,
     "metadata": {},
     "output_type": "execute_result"
    }
   ],
   "source": [
    "# for web part\n",
    "dfs = []\n",
    "children = []\n",
    "rows = []\n",
    "url = \"http://35.238.176.90:5000/Node_1.html\"\n",
    "    \n",
    "driver.get(url)\n",
    "# dfs = pd.read_html(driver.page_source)\n",
    "\n",
    "# table = driver.find_element(by=\"id\",value=\"Pages\")\n",
    "\n",
    "\n",
    "# get links\n",
    "linkList = []\n",
    "links = driver.find_elements(by = \"tag name\", value = \"a\")\n",
    "for link in links:\n",
    "    linkList.append(link.get_attribute(\"href\"))\n",
    "    \n",
    "    \n",
    "    \n",
    "# get talbes talbe, for methods\n",
    "\n",
    "\n",
    "    \n",
    "linkList"
   ]
  },
  {
   "cell_type": "code",
   "execution_count": null,
   "id": "c2abc4ba",
   "metadata": {},
   "outputs": [],
   "source": []
  },
  {
   "cell_type": "code",
   "execution_count": null,
   "id": "e211d2ab",
   "metadata": {},
   "outputs": [],
   "source": []
  }
 ],
 "metadata": {
  "kernelspec": {
   "display_name": "Python 3 (ipykernel)",
   "language": "python",
   "name": "python3"
  },
  "language_info": {
   "codemirror_mode": {
    "name": "ipython",
    "version": 3
   },
   "file_extension": ".py",
   "mimetype": "text/x-python",
   "name": "python",
   "nbconvert_exporter": "python",
   "pygments_lexer": "ipython3",
   "version": "3.8.10"
  }
 },
 "nbformat": 4,
 "nbformat_minor": 5
}
