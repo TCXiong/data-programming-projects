{
 "cells": [
  {
   "cell_type": "code",
   "execution_count": 1,
   "id": "ae00389a",
   "metadata": {},
   "outputs": [],
   "source": [
    "import geopandas\n",
    "import re\n",
    "import netaddr\n",
    "from bisect import bisect"
   ]
  },
  {
   "cell_type": "code",
   "execution_count": 2,
   "id": "4dea0a07",
   "metadata": {},
   "outputs": [
    {
     "name": "stdout",
     "output_type": "stream",
     "text": [
      "101.1.1.000\n"
     ]
    }
   ],
   "source": [
    "# ex1\n",
    "import re\n",
    "ipaddr = \"101.1.1.abc\"\n",
    "html = re.sub(\"[a-z]{1}\", \"0\", ipaddr)\n",
    "print(html)"
   ]
  },
  {
   "cell_type": "code",
   "execution_count": 3,
   "id": "624c2c4f",
   "metadata": {},
   "outputs": [
    {
     "data": {
      "text/plain": [
       "579387837"
      ]
     },
     "execution_count": 3,
     "metadata": {},
     "output_type": "execute_result"
    }
   ],
   "source": [
    "#ex2\n",
    "import netaddr\n",
    "# my ip\n",
    "int(netaddr.IPAddress(\"34.136.193.189\"))"
   ]
  },
  {
   "cell_type": "code",
   "execution_count": 4,
   "id": "0d0d8b90",
   "metadata": {},
   "outputs": [
    {
     "data": {
      "text/plain": [
       "4"
      ]
     },
     "execution_count": 4,
     "metadata": {},
     "output_type": "execute_result"
    }
   ],
   "source": [
    "# ex3\n",
    "from bisect import bisect\n",
    "L = [1, 2, 100, 222, 900]\n",
    "idx = bisect(L, 225)\n",
    "idx"
   ]
  },
  {
   "cell_type": "code",
   "execution_count": 5,
   "id": "492a6d9d",
   "metadata": {},
   "outputs": [
    {
     "data": {
      "text/plain": [
       "'United States of America'"
      ]
     },
     "execution_count": 5,
     "metadata": {},
     "output_type": "execute_result"
    }
   ],
   "source": [
    "# ex4\n",
    "import pandas as pd\n",
    "ips = pd.read_csv(\"ip2location.csv\")\n",
    "arr = []\n",
    "myip = int(netaddr.IPAddress(\"34.136.193.189\"))\n",
    "\n",
    "        \n",
    "\n",
    "idx = bisect(ips[\"low\"], myip)\n",
    "ips.iloc[idx-1][\"region\"]\n"
   ]
  },
  {
   "cell_type": "code",
   "execution_count": 6,
   "id": "68fe6243",
   "metadata": {},
   "outputs": [
    {
     "data": {
      "text/plain": [
       "'China'"
      ]
     },
     "execution_count": 6,
     "metadata": {},
     "output_type": "execute_result"
    }
   ],
   "source": [
    "#ex5\n",
    "ips = pd.read_csv(\"ip2location.csv\")\n",
    "def lookup_region(ip):\n",
    "    ip = re.sub(\"[a-z]{1}\", \"0\", ip)\n",
    "    ip = int(netaddr.IPAddress(ip))\n",
    "    idx = bisect(ips[\"low\"], ip)\n",
    "    return ips.iloc[idx-1][\"region\"]\n",
    "\n",
    "lookup_region(\"1.1.1.x\")\n",
    "lookup_region(\"101.1.1.abc\")"
   ]
  },
  {
   "cell_type": "code",
   "execution_count": 7,
   "id": "60e4a8f4",
   "metadata": {},
   "outputs": [],
   "source": [
    "html = \"\"\"<!DOCTYPE HTML PUBLIC \"-//W3C//DTD HTML 4.01 Transitional//EN\" \"http://www.w3.org/TR/html4/loose.dtd\">\n",
    "<html xmlns=\"http://www.w3.org/1999/xhtml\">\n",
    "<head>\n",
    "<meta http-equiv=\"Content-Type\" content=\"text/html; charset=utf-8\" />\n",
    "<meta http-equiv=\"Last-Modified\" content=\"Fri, 12 Feb 2016 00:05:37 GMT\" />\n",
    "<title>EDGAR Filing Documents for 0001050470-16-000051</title>\n",
    "<link rel=\"stylesheet\" type=\"text/css\" href=\"/include/interactive.css\" />\n",
    "</head>\n",
    "<body style=\"margin: 0\">\n",
    "<!-- SEC Web Analytics - For information please visit: https://www.sec.gov/privacy.htm#collectedinfo -->\n",
    "<noscript><iframe src=\"//www.googletagmanager.com/ns.html?id=GTM-TD3BKV\"\n",
    "height=\"0\" width=\"0\" style=\"display:none;visibility:hidden\"></iframe></noscript>\n",
    "<script>(function(w,d,s,l,i){w[l]=w[l]||[];w[l].push({'gtm.start':\n",
    "new Date().getTime(),event:'gtm.js'});var f=d.getElementsByTagName(s)[0],\n",
    "j=d.createElement(s),dl=l!='dataLayer'?'&l='+l:'';j.async=true;j.src=\n",
    "'//www.googletagmanager.com/gtm.js?id='+i+dl;f.parentNode.insertBefore(j,f);\n",
    "})(window,document,'script','dataLayer','GTM-TD3BKV');</script>\n",
    "<!-- End SEC Web Analytics -->\n",
    "<noscript><div style=\"color:red; font-weight:bold; text-align:center;\">This page uses Javascript. Your browser either doesn't support Javascript or you have it turned off. To see this page as it is meant to appear please use a Javascript enabled browser.</div></noscript>\n",
    "<!-- BEGIN BANNER -->\n",
    "<div id=\"headerTop\">\n",
    "   <div id=\"Nav\"><a href=\"/index.htm\">Home</a> | <a href=\"/cgi-bin/browse-edgar?action=getcurrent\">Latest Filings</a> | <a href=\"javascript:history.back()\">Previous Page</a></div>\n",
    "   <div id=\"seal\"><a href=\"/index.htm\"><img src=\"/images/sealTop.gif\" alt=\"SEC Seal\" border=\"0\" /></a></div>\n",
    "   <div id=\"secWordGraphic\"><img src=\"/images/bannerTitle.gif\" alt=\"SEC Banner\" /></div>\n",
    "</div>\n",
    "<div id=\"headerBottom\">\n",
    "   <div id=\"searchHome\"><a href=\"/edgar/searchedgar/webusers.htm\">Search the Next-Generation EDGAR System</a></div>\n",
    "   <div id=\"PageTitle\">Filing Detail</div>\n",
    "</div>\n",
    "<!-- END BANNER -->\n",
    "\n",
    "\n",
    "<!-- BEGIN BREADCRUMBS -->\n",
    "<div id=\"breadCrumbs\">\n",
    "   <ul>\n",
    "      <li><a href=\"/index.htm\">SEC Home</a> &#187;</li>\n",
    "      <li><a href=\"/edgar/searchedgar/webusers.htm\">Search the Next-Generation EDGAR System</a> &#187;</li>\n",
    "      <li><a href=\"/edgar/searchedgar/companysearch.html\">Company Search</a> &#187;</li>\n",
    "      <li class=\"last\">Current Page</li>\n",
    "   </ul>\n",
    "</div>\n",
    "<!-- END BREADCRUMBS -->\n",
    "\n",
    "<div id=\"contentDiv\">\n",
    "<!-- START FILING DIV -->\n",
    "<div id=\"formDiv\">\n",
    "   <div id=\"formHeader\">\n",
    "      <div id=\"formName\">\n",
    "         <strong>Form SC 13G</strong> - Statement of acquisition of beneficial ownership by individuals: \n",
    "      </div>\n",
    "      <div id=\"secNum\">\n",
    "         <strong><acronym title=\"Securities and Exchange Commission\">SEC</acronym> Accession <acronym title=\"Number\">No.</acronym></strong> 0001050470-16-000051\n",
    "      </div>\n",
    "   </div>\n",
    "   <div class=\"formContent\">\n",
    "      <div class=\"formGrouping\">\n",
    "         <div class=\"infoHead\">Filing Date</div>\n",
    "         <div class=\"info\">2016-02-12</div>\n",
    "         <div class=\"infoHead\">Accepted</div>\n",
    "         <div class=\"info\">2016-02-11 19:05:37</div>\n",
    "         <div class=\"infoHead\">Documents</div>\n",
    "         <div class=\"info\">1</div>\n",
    "      </div>\n",
    "      <div style=\"clear:both\"></div>\n",
    "   </div>\n",
    "</div>\n",
    "<!-- END FILING DIV -->\n",
    "<!-- START DOCUMENT DIV -->\n",
    "<div id=\"formDiv\">\n",
    "   <div style=\"padding: 0px 0px 4px 0px; font-size: 12px; margin: 0px 2px 0px 5px; width: 100%; overflow:hidden\">\n",
    "      <p>Document Format Files</p>\n",
    "      <table class=\"tableFile\" summary=\"Document Format Files\">\n",
    "         <tr>\n",
    "            <th scope=\"col\" style=\"width: 5%;\"><acronym title=\"Sequence Number\">Seq</acronym></th>\n",
    "            <th scope=\"col\" style=\"width: 40%;\">Description</th>\n",
    "            <th scope=\"col\" style=\"width: 20%;\">Document</th>\n",
    "            <th scope=\"col\" style=\"width: 10%;\">Type</th>\n",
    "            <th scope=\"col\">Size</th>\n",
    "         </tr>\n",
    "         <tr>\n",
    "            <td scope=\"row\">1</td>\n",
    "            <td scope=\"row\">LSV13G123115MEDALLION.TXT</td>\n",
    "            <td scope=\"row\"><a href=\"/Archives/edgar/data/1000209/000105047016000051/lsv13g123115medallion.txt\">lsv13g123115medallion.txt</a></td>\n",
    "            <td scope=\"row\">SC 13G</td>\n",
    "            <td scope=\"row\">8314</td>\n",
    "         </tr>\n",
    "         <tr class=\"blueRow\">\n",
    "            <td scope=\"row\">&nbsp;</td>\n",
    "            <td scope=\"row\">Complete submission text file</td>\n",
    "            <td scope=\"row\"><a href=\"/Archives/edgar/data/1000209/000105047016000051/0001050470-16-000051.txt\">0001050470-16-000051.txt</a></td>\n",
    "            <td scope=\"row\">&nbsp;</td>\n",
    "            <td scope=\"row\">9803</td>\n",
    "         </tr>\n",
    "      </table>\t\n",
    "   </div>\n",
    "</div>\n",
    "<!-- END DOCUMENT DIV -->\n",
    "<!-- START FILER DIV -->\n",
    "<div id=\"filerDiv\">\n",
    "   <div class=\"mailer\">Mailing Address\n",
    "      <span class=\"mailerAddress\">437 MADISON AVENUE</span>\n",
    "      <span class=\"mailerAddress\">38TH FLOOR</span>\n",
    "      <span class=\"mailerAddress\">\n",
    "NEW YORK NY 10022      </span>\n",
    "   </div>\n",
    "   <div class=\"mailer\">Business Address\n",
    "      <span class=\"mailerAddress\">437 MADISON AVE 38 TH FLOOR</span>\n",
    "      <span class=\"mailerAddress\">\n",
    "NEW YORK NY 10022      </span>\n",
    "      <span class=\"mailerAddress\">2123282153</span>\n",
    "   </div>\n",
    "<div class=\"companyInfo\">\n",
    "  <span class=\"companyName\">MEDALLION FINANCIAL CORP (Subject)\n",
    " <acronym title=\"Central Index Key\">CIK</acronym>: <a href=\"/cgi-bin/browse-edgar?CIK=0001000209&amp;action=getcompany\">0001000209 (see all company filings)</a></span>\n",
    "<p class=\"identInfo\"><acronym title=\"Internal Revenue Service Number\">IRS No.</acronym>: <strong>043291176</strong> | State of Incorp.: <strong>DE</strong> | Fiscal Year End: <strong>1231</strong><br />Type: <strong>SC 13G</strong> | Act: <strong>34</strong> | File No.: <a href=\"/cgi-bin/browse-edgar?filenum=005-48473&amp;action=getcompany\"><strong>005-48473</strong></a> | Film No.: <strong>161413579</strong><br /><acronym title=\"Standard Industrial Code\">SIC</acronym>: <b><a href=\"/cgi-bin/browse-edgar?action=getcompany&amp;SIC=6199&amp;owner=include\">6199</a></b> Finance Services<br />Office of Finance</p>\n",
    "</div>\n",
    "<div class=\"clear\"></div>\n",
    "</div>\n",
    "<div id=\"filerDiv\">\n",
    "   <div class=\"mailer\">Mailing Address\n",
    "      <span class=\"mailerAddress\">155 NORTH WACKER DRIVE</span>\n",
    "      <span class=\"mailerAddress\">SUITE 4600</span>\n",
    "      <span class=\"mailerAddress\">\n",
    "CHICAGO IL 60606      </span>\n",
    "   </div>\n",
    "   <div class=\"mailer\">Business Address\n",
    "      <span class=\"mailerAddress\">155 NORTH WACKER DRIVE</span>\n",
    "      <span class=\"mailerAddress\">SUITE 4600</span>\n",
    "      <span class=\"mailerAddress\">\n",
    "CHICAGO IL 60606      </span>\n",
    "      <span class=\"mailerAddress\">312-460-2443</span>\n",
    "   </div>\n",
    "<div class=\"companyInfo\">\n",
    "  <span class=\"companyName\">LSV ASSET MANAGEMENT (Filed by)\n",
    " <acronym title=\"Central Index Key\">CIK</acronym>: <a href=\"/cgi-bin/browse-edgar?CIK=0001050470&amp;action=getcompany\">0001050470 (see all company filings)</a></span>\n",
    "<p class=\"identInfo\"><acronym title=\"Internal Revenue Service Number\">IRS No.</acronym>: <strong>232772200</strong> | State of Incorp.: <strong>DE</strong> | Fiscal Year End: <strong>1231</strong><br />Type: <strong>SC 13G</strong></p>\n",
    "</div>\n",
    "<div class=\"clear\"></div>\n",
    "</div>\n",
    "<!-- END FILER DIV -->\n",
    "</div>\"\"\""
   ]
  },
  {
   "cell_type": "code",
   "execution_count": 8,
   "id": "fca6d276",
   "metadata": {},
   "outputs": [
    {
     "data": {
      "text/plain": [
       "['2016-02-12', '2016-02-11']"
      ]
     },
     "execution_count": 8,
     "metadata": {},
     "output_type": "execute_result"
    }
   ],
   "source": [
    "# ex1\n",
    "import re\n",
    "raw = re.findall(r\"\\d{4}-\\d{2}-\\d{2}\", html)\n",
    "data = []\n",
    "for i in raw:\n",
    "    if i[:2]=='19'or i[:2]=='20':\n",
    "        data.append(i)\n",
    "        \n",
    "        \n",
    "data"
   ]
  },
  {
   "cell_type": "code",
   "execution_count": 29,
   "id": "7530fb99",
   "metadata": {},
   "outputs": [
    {
     "data": {
      "text/plain": [
       "6199"
      ]
     },
     "execution_count": 29,
     "metadata": {},
     "output_type": "execute_result"
    }
   ],
   "source": [
    "# ex2 sic codes\n",
    "\n",
    "if re.findall(r\"SIC=(.+?)&amp\",html)[0]:\n",
    "            sic = int(re.findall(r\"SIC=(.+?)&amp\",html)[0])\n",
    "        \n",
    "        \n",
    "sic        "
   ]
  },
  {
   "cell_type": "code",
   "execution_count": 10,
   "id": "1cf18c0a",
   "metadata": {},
   "outputs": [
    {
     "name": "stdout",
     "output_type": "stream",
     "text": [
      "Mailing Address\n",
      "      <span class=\"mailerAddress\">437 MADISON AVENUE</span>\n",
      "      <span class=\"mailerAddress\">38TH FLOOR</span>\n",
      "      <span class=\"mailerAddress\">\n",
      "NEW YORK NY 10022      </span>\n",
      "   \n",
      "Business Address\n",
      "      <span class=\"mailerAddress\">437 MADISON AVE 38 TH FLOOR</span>\n",
      "      <span class=\"mailerAddress\">\n",
      "NEW YORK NY 10022      </span>\n",
      "      <span class=\"mailerAddress\">2123282153</span>\n",
      "   \n",
      "Mailing Address\n",
      "      <span class=\"mailerAddress\">155 NORTH WACKER DRIVE</span>\n",
      "      <span class=\"mailerAddress\">SUITE 4600</span>\n",
      "      <span class=\"mailerAddress\">\n",
      "CHICAGO IL 60606      </span>\n",
      "   \n",
      "Business Address\n",
      "      <span class=\"mailerAddress\">155 NORTH WACKER DRIVE</span>\n",
      "      <span class=\"mailerAddress\">SUITE 4600</span>\n",
      "      <span class=\"mailerAddress\">\n",
      "CHICAGO IL 60606      </span>\n",
      "      <span class=\"mailerAddress\">312-460-2443</span>\n",
      "   \n"
     ]
    }
   ],
   "source": [
    "#ex3 addr\n",
    "for addr_html in re.findall(r'<div class=\"mailer\">([\\s\\S]*?)</div>', html):\n",
    "    print(addr_html)"
   ]
  },
  {
   "cell_type": "code",
   "execution_count": 45,
   "id": "c3cdf35d",
   "metadata": {},
   "outputs": [
    {
     "data": {
      "text/plain": [
       "['437 MADISON AVENUE\\n38TH FLOOR\\nNEW YORK NY 10022',\n",
       " '437 MADISON AVE 38 TH FLOOR\\nNEW YORK NY 10022\\n2123282153',\n",
       " '155 NORTH WACKER DRIVE\\nSUITE 4600\\nCHICAGO IL 60606',\n",
       " '155 NORTH WACKER DRIVE\\nSUITE 4600\\nCHICAGO IL 60606\\n312-460-2443']"
      ]
     },
     "execution_count": 45,
     "metadata": {},
     "output_type": "execute_result"
    }
   ],
   "source": [
    "# \n",
    "\n",
    "res = []\n",
    "for addr_html in re.findall(r'<div class=\"mailer\">([\\s\\S]+?)</div>', html):\n",
    "    lines = []\n",
    "    for line in re.findall(r'<span class=\"mailerAddress\">([\\s\\S]+?)</span>', addr_html):\n",
    "        lines.append(line.strip())\n",
    "    res.append(\"\\n\".join(lines))\n",
    "\n",
    "res"
   ]
  },
  {
   "cell_type": "code",
   "execution_count": 54,
   "id": "f9e0d594",
   "metadata": {},
   "outputs": [
    {
     "data": {
      "text/plain": [
       "'NY'"
      ]
     },
     "execution_count": 54,
     "metadata": {},
     "output_type": "execute_result"
    }
   ],
   "source": [
    "\n",
    "for i in res:\n",
    "    if re.findall(r\"\\w+\\s\\d{5}\",i):\n",
    "        test = re.findall(r\"\\w+\\s\\d{5}\",i)[0]\n",
    "        test2 = re.findall(r\"[A-Z]+\",test)[0]\n",
    "        break\n",
    "        \n",
    "test2"
   ]
  },
  {
   "cell_type": "code",
   "execution_count": 23,
   "id": "6d516c88",
   "metadata": {},
   "outputs": [],
   "source": [
    "class Filing:\n",
    "    def __init__(self, html):\n",
    "        self.dates = []\n",
    "        self.addresses = []\n",
    "        \n",
    "        self.sic = None\n",
    "        if re.findall(r\"SIC=(.+?)&amp\",html)[0]:\n",
    "            self.sic = int(re.findall(r\"SIC=(.+?)&amp\",html)[0])\n",
    "        \n",
    "        raw = re.findall(r\"\\d{4}-\\d{2}-\\d{2}\", html)\n",
    "        for i in raw:\n",
    "            if i[:2]=='19'or i[:2]=='20':\n",
    "                self.dates.append(i)\n",
    "        \n",
    "        for addr_html in re.findall(r'<div class=\"mailer\">([\\s\\S]+?)</div>', html):\n",
    "            lines = []\n",
    "            for line in re.findall(r'<span class=\"mailerAddress\">([\\s\\S]+?)</span>', addr_html):\n",
    "                lines.append(line.strip())\n",
    "            self.addresses.append(\"\\n\".join(lines))\n",
    "       \n",
    "\n",
    "    def state(self):\n",
    "        for i in self.addresses:\n",
    "            if re.findall(r\"\\w{2}+\\s\\d{5}\",i):\n",
    "                res = re.findall(r\"\\w+\\s\\d{5}\",i)\n",
    "                return res[0][:2]\n",
    "        return None"
   ]
  }
 ],
 "metadata": {
  "kernelspec": {
   "display_name": "Python 3 (ipykernel)",
   "language": "python",
   "name": "python3"
  },
  "language_info": {
   "codemirror_mode": {
    "name": "ipython",
    "version": 3
   },
   "file_extension": ".py",
   "mimetype": "text/x-python",
   "name": "python",
   "nbconvert_exporter": "python",
   "pygments_lexer": "ipython3",
   "version": "3.8.10"
  }
 },
 "nbformat": 4,
 "nbformat_minor": 5
}
