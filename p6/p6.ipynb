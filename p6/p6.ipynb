{
 "cells": [
  {
   "cell_type": "code",
   "execution_count": 26,
   "id": "1307beee",
   "metadata": {},
   "outputs": [],
   "source": [
    "# project: p6\n",
    "# submitter: txiong53\n",
    "# partner: none\n",
    "# hours: 10"
   ]
  },
  {
   "cell_type": "code",
   "execution_count": 27,
   "id": "1c5f6122",
   "metadata": {},
   "outputs": [],
   "source": [
    "import geopandas as gpd\n",
    "import sqlite3\n",
    "import pandas as pd\n",
    "from sklearn.model_selection import train_test_split, cross_val_score\n",
    "from sklearn.linear_model import LinearRegression\n",
    "from rasterio.mask import mask\n",
    "import rasterio\n",
    "import matplotlib.pyplot as plt\n",
    "from matplotlib.colors import ListedColormap\n",
    "from sklearn.preprocessing import PolynomialFeatures, OneHotEncoder\n",
    "from sklearn.pipeline import Pipeline\n"
   ]
  },
  {
   "cell_type": "code",
   "execution_count": 28,
   "id": "9f3482fa",
   "metadata": {},
   "outputs": [
    {
     "data": {
      "text/plain": [
       "72"
      ]
     },
     "execution_count": 28,
     "metadata": {},
     "output_type": "execute_result"
    }
   ],
   "source": [
    "#q1\n",
    "# How many counties are in Wisconsin?\n",
    "data = gpd.read_file(\"counties.geojson\")\n",
    "len(data)"
   ]
  },
  {
   "cell_type": "code",
   "execution_count": 29,
   "id": "b9eb288f",
   "metadata": {},
   "outputs": [
    {
     "data": {
      "image/png": "[encoded data removed]",
      "text/plain": [
       "<Figure size 300x300 with 2 Axes>"
      ]
     },
     "metadata": {
      "needs_background": "light"
     },
     "output_type": "display_data"
    }
   ],
   "source": [
    "#q2\n",
    "# What is the population of each county in WI?\n",
    "ax = data.plot(column=\"POP100\", legend=True, cmap=\"plasma\", figsize=(3,3))\n",
    "fig = ax.get_figure()\n",
    "fig.set_dpi(100)"
   ]
  },
  {
   "cell_type": "code",
   "execution_count": 30,
   "id": "13cd7405",
   "metadata": {},
   "outputs": [],
   "source": [
    "# Feature1 AREALAND\n",
    "conn = sqlite3.connect(\"counties_tracts.db\")\n",
    "# pd.read_sql(\"\"\"SELECT * FROM sqlite_master\"\"\", conn)\n",
    "counties_table = pd.read_sql(\"\"\"SELECT * FROM counties\"\"\", conn)\n",
    "# add an AREALAND column to your GeoDataFrame\n",
    "data[\"AREALAND\"] = counties_table['AREALAND']\n",
    "train, test = train_test_split(data, random_state=320, test_size=0.25)"
   ]
  },
  {
   "cell_type": "code",
   "execution_count": 31,
   "id": "7e96d21a",
   "metadata": {},
   "outputs": [
    {
     "data": {
      "text/plain": [
       "['Kewaunee County',\n",
       " 'Calumet County',\n",
       " 'Adams County',\n",
       " 'Eau Claire County',\n",
       " 'Milwaukee County',\n",
       " 'Ashland County',\n",
       " 'Wood County',\n",
       " 'Dodge County',\n",
       " 'Sauk County',\n",
       " 'Clark County',\n",
       " 'Pepin County',\n",
       " 'Taylor County',\n",
       " 'Iron County',\n",
       " 'Outagamie County',\n",
       " 'Florence County',\n",
       " 'Oneida County',\n",
       " 'Pierce County',\n",
       " 'Grant County']"
      ]
     },
     "execution_count": 31,
     "metadata": {},
     "output_type": "execute_result"
    }
   ],
   "source": [
    "#q3\n",
    "# What are the counties in the test dataset?\n",
    "counties_list = test['NAME'].to_list()\n",
    "counties_list"
   ]
  },
  {
   "cell_type": "code",
   "execution_count": 32,
   "id": "0fa6ef13",
   "metadata": {},
   "outputs": [
    {
     "data": {
      "text/plain": [
       "0.022002661530554857"
      ]
     },
     "execution_count": 32,
     "metadata": {},
     "output_type": "execute_result"
    }
   ],
   "source": [
    "#q4\n",
    "# How much variance in the POP100 can a LinearRegression model explain based only on AREALAND?\n",
    "model = LinearRegression()\n",
    "model.fit(train[['AREALAND']], train['POP100'])\n",
    "model.score(test[['AREALAND']], test['POP100'])"
   ]
  },
  {
   "cell_type": "code",
   "execution_count": 33,
   "id": "24f92001",
   "metadata": {},
   "outputs": [
    {
     "data": {
      "text/plain": [
       "82032.53073541154"
      ]
     },
     "execution_count": 33,
     "metadata": {},
     "output_type": "execute_result"
    }
   ],
   "source": [
    "#q5\n",
    "# What is the predicted population of a county with 500 square miles of area, according to the model?\n",
    "#500miles * 2.59 = 1295000000 m^2\n",
    "prediction_df = pd.DataFrame({\"AREALAND\": [1295000000]})\n",
    "prediction = model.predict(prediction_df)\n",
    "prediction[0]"
   ]
  },
  {
   "cell_type": "code",
   "execution_count": 34,
   "id": "7d8a307c",
   "metadata": {},
   "outputs": [],
   "source": [
    "# Feature 2: HU100 (housing units)\n",
    "# pd.read_sql(\"\"\"SELECT * FROM sqlite_master\"\"\", conn)\n",
    "tracts_table = pd.read_sql(\"\"\"SELECT * FROM tracts\"\"\", conn)\n",
    "\n",
    "\n",
    "counties_table.to_sql(\"counties\", conn, if_exists=\"replace\", index=False)\n",
    "tracts_table.to_sql(\"tracts\", conn, if_exists=\"replace\", index=False)\n",
    "\n",
    "\n",
    "sumTable = pd.read_sql(\"\"\"\n",
    "  SELECT COUNTY, SUM(HU100) AS HU100 FROM \n",
    "  tracts GROUP BY COUNTY\"\"\",\n",
    "  conn)\n",
    "\n",
    "sumTable.to_sql(\"sumtable\", conn, if_exists=\"replace\", index=False)\n",
    "\n",
    "new = pd.read_sql(\"\"\"\n",
    "  SELECT * FROM \n",
    "  counties INNER JOIN sumtable \n",
    "  ON sumtable.COUNTY = counties.COUNTY \"\"\",\n",
    "  conn).drop(columns=\"COUNTY\")\n",
    "\n",
    "new['POP100'] = data['POP100']\n",
    "train2, test2 = train_test_split(new, random_state=320, test_size=0.25)\n"
   ]
  },
  {
   "cell_type": "code",
   "execution_count": 35,
   "id": "34472fdf",
   "metadata": {},
   "outputs": [
    {
     "data": {
      "text/plain": [
       "['Kewaunee County',\n",
       " 'Calumet County',\n",
       " 'Adams County',\n",
       " 'Eau Claire County',\n",
       " 'Milwaukee County',\n",
       " 'Ashland County',\n",
       " 'Wood County',\n",
       " 'Dodge County',\n",
       " 'Sauk County',\n",
       " 'Clark County',\n",
       " 'Pepin County',\n",
       " 'Taylor County',\n",
       " 'Iron County',\n",
       " 'Outagamie County',\n",
       " 'Florence County',\n",
       " 'Oneida County',\n",
       " 'Pierce County',\n",
       " 'Grant County']"
      ]
     },
     "execution_count": 35,
     "metadata": {},
     "output_type": "execute_result"
    }
   ],
   "source": [
    "#q6\n",
    "counties_list2 = test2['NAME'].to_list()\n",
    "counties_list2"
   ]
  },
  {
   "cell_type": "code",
   "execution_count": 36,
   "id": "2cb5b29e",
   "metadata": {},
   "outputs": [
    {
     "data": {
      "text/plain": [
       "{'Walworth County': 51531,\n",
       " 'Marquette County': 9896,\n",
       " 'Racine County': 82164,\n",
       " 'Waupaca County': 25396,\n",
       " 'Lincoln County': 16784,\n",
       " 'Washburn County': 12979,\n",
       " 'Door County': 23966,\n",
       " 'Waukesha County': 160864,\n",
       " 'Sheboygan County': 50766,\n",
       " 'La Crosse County': 48402,\n",
       " 'Langlade County': 12360,\n",
       " 'Marathon County': 57734,\n",
       " 'Jefferson County': 35147,\n",
       " 'Price County': 11120,\n",
       " 'Vilas County': 25116,\n",
       " 'Columbia County': 26137,\n",
       " 'Ozaukee County': 36267,\n",
       " 'Fond du Lac County': 43910,\n",
       " 'Crawford County': 8802,\n",
       " 'Lafayette County': 7230,\n",
       " 'Green County': 15856,\n",
       " 'Marinette County': 30379,\n",
       " 'Vernon County': 13720,\n",
       " 'Douglas County': 22825,\n",
       " 'Rock County': 68422,\n",
       " 'Iowa County': 10719,\n",
       " 'Dane County': 216022,\n",
       " 'Bayfield County': 12999,\n",
       " 'Polk County': 24248,\n",
       " 'Trempealeau County': 12619,\n",
       " 'Brown County': 104371,\n",
       " 'Washington County': 54695,\n",
       " 'Chippewa County': 27185,\n",
       " 'Oconto County': 23537,\n",
       " 'Richland County': 8868,\n",
       " 'Portage County': 30054,\n",
       " 'Sawyer County': 15975,\n",
       " 'Menominee County': 2253,\n",
       " 'Barron County': 23614,\n",
       " 'Shawano County': 20720,\n",
       " 'Winnebago County': 73329,\n",
       " 'Rusk County': 8883,\n",
       " 'Manitowoc County': 37189,\n",
       " 'Dunn County': 17964,\n",
       " 'Monroe County': 19204,\n",
       " 'Waushara County': 14843,\n",
       " 'Forest County': 8970,\n",
       " 'Green Lake County': 10616,\n",
       " 'Juneau County': 14669,\n",
       " 'St. Croix County': 33983,\n",
       " 'Buffalo County': 6664,\n",
       " 'Kenosha County': 69288,\n",
       " 'Jackson County': 9727,\n",
       " 'Burnett County': 15278}"
      ]
     },
     "execution_count": 36,
     "metadata": {},
     "output_type": "execute_result"
    }
   ],
   "source": [
    "#q7\n",
    "# What are the HU100 values for the counties in the train dataset?\n",
    "name = train2[\"NAME\"].to_list()\n",
    "count = train2[\"HU100\"].to_list()   \n",
    "\n",
    "q7_dic = {name[i]: count[i] for i in range(len(name))}\n",
    "q7_dic"
   ]
  },
  {
   "cell_type": "code",
   "execution_count": 37,
   "id": "a0c267df",
   "metadata": {},
   "outputs": [
    {
     "data": {
      "text/plain": [
       "0.9652534544116037"
      ]
     },
     "execution_count": 37,
     "metadata": {},
     "output_type": "execute_result"
    }
   ],
   "source": [
    "#q8\n",
    "# How much variance in the POP100 can a LinearRegression model explain based only on HU100?\n",
    "model2 = LinearRegression()\n",
    "scores = cross_val_score(model2, train2[['HU100']],train2['POP100'])\n",
    "scores.mean()"
   ]
  },
  {
   "cell_type": "code",
   "execution_count": 38,
   "id": "71b5814a",
   "metadata": {},
   "outputs": [
    {
     "data": {
      "text/plain": [
       "0.03704265206670459"
      ]
     },
     "execution_count": 38,
     "metadata": {},
     "output_type": "execute_result"
    }
   ],
   "source": [
    "#q9\n",
    "# What is the standard deviation of the cross validation scores from Q8?\n",
    "scores.std()"
   ]
  },
  {
   "cell_type": "code",
   "execution_count": 39,
   "id": "d323b984",
   "metadata": {},
   "outputs": [
    {
     "data": {
      "text/plain": [
       "'POP100 = 2.39*HU100 + -7910.46'"
      ]
     },
     "execution_count": 39,
     "metadata": {},
     "output_type": "execute_result"
    }
   ],
   "source": [
    "#q10\n",
    "# What is the formula relating POP100 and HU100?\n",
    "model2.fit(train2[['HU100']],train2['POP100'])\n",
    "k = round(model2.coef_[0],2)\n",
    "b = round(model2.intercept_,2)\n",
    "q10_res = f\"POP100 = {k}*HU100 + {b}\"\n",
    "q10_res"
   ]
  },
  {
   "cell_type": "code",
   "execution_count": 42,
   "id": "fab7bc11",
   "metadata": {
    "scrolled": true
   },
   "outputs": [
    {
     "data": {
      "text/plain": [
       "Text(0.53, 0.51, 'Dane')"
      ]
     },
     "execution_count": 42,
     "metadata": {},
     "output_type": "execute_result"
    },
    {
     "data": {
      "image/png": "[encoded data removed]",
      "text/plain": [
       "<Figure size 432x288 with 1 Axes>"
      ]
     },
     "metadata": {
      "needs_background": "light"
     },
     "output_type": "display_data"
    }
   ],
   "source": [
    "#q11\n",
    "# What is the relationship between HU100 and POP100, visually?\n",
    "prediction_df = pd.DataFrame({\"HU100\": [0, 100000, 200000, 300000, 400000]})\n",
    "prediction_df[\"POP100\"] = model2.predict(prediction_df)\n",
    "prediction_df[\"POP100\"]\n",
    "ax = prediction_df.plot.line(x=\"HU100\", y=\"POP100\", color=\"red\", label=\"Predicted\")\n",
    "ax.ticklabel_format(style='scientific', scilimits=(0,0),axis='y',useOffset = -1)\n",
    "   \n",
    "ax2 = new.plot.scatter(x=\"HU100\", y=\"POP100\", ax=ax, label=\"Actual\")\n",
    "\n",
    "ax2.text(0.53,0.51,\"Dane\",transform=ax.transAxes)"
   ]
  },
  {
   "cell_type": "code",
   "execution_count": 41,
   "id": "b5679505",
   "metadata": {},
   "outputs": [
    {
     "data": {
      "text/plain": [
       "12"
      ]
     },
     "execution_count": 41,
     "metadata": {},
     "output_type": "execute_result"
    }
   ],
   "source": [
    "#q12\n",
    "# How many numbers in matrix A are between 2 and 5 (inclusive)?\n",
    "import numpy as np\n",
    "A = np.array([\n",
    "    [0,0,5,8,4],\n",
    "    [1,2,4,0,3],\n",
    "    [2,4,0,9,2],\n",
    "    [3,5,2,1,1],\n",
    "    [0,5,0,1,0]\n",
    "])\n",
    "\n",
    "q12_res = ((A>=2)&(A<=5)).astype(int).sum()\n",
    "q12_res"
   ]
  },
  {
   "cell_type": "code",
   "execution_count": 17,
   "id": "a7d51578",
   "metadata": {
    "scrolled": false
   },
   "outputs": [
    {
     "data": {
      "text/plain": [
       "<matplotlib.image.AxesImage at 0x7f1934665c70>"
      ]
     },
     "execution_count": 17,
     "metadata": {},
     "output_type": "execute_result"
    },
    {
     "data": {
      "image/png": "[encoded data removed]",
      "text/plain": [
       "<Figure size 864x864 with 1 Axes>"
      ]
     },
     "metadata": {
      "needs_background": "light"
     },
     "output_type": "display_data"
    }
   ],
   "source": [
    "#q13\n",
    "# How does Milwaukee County look?\n",
    "fig, ax = plt.subplots(figsize=(12,12))\n",
    "\n",
    "c = np.zeros((256,3))\n",
    "c[0] = [0.00000000000, 0.00000000000, 0.00000000000]\n",
    "c[11] = [0.27843137255, 0.41960784314, 0.62745098039]\n",
    "c[12] = [0.81960784314, 0.86666666667, 0.97647058824]\n",
    "c[21] = [0.86666666667, 0.78823529412, 0.78823529412]\n",
    "c[22] = [0.84705882353, 0.57647058824, 0.50980392157]\n",
    "c[23] = [0.92941176471, 0.00000000000, 0.00000000000]\n",
    "c[24] = [0.66666666667, 0.00000000000, 0.00000000000]\n",
    "c[31] = [0.69803921569, 0.67843137255, 0.63921568628]\n",
    "c[41] = [0.40784313726, 0.66666666667, 0.38823529412]\n",
    "c[42] = [0.10980392157, 0.38823529412, 0.18823529412]\n",
    "c[43] = [0.70980392157, 0.78823529412, 0.55686274510]\n",
    "c[51] = [0.64705882353, 0.54901960784, 0.18823529412]\n",
    "c[52] = [0.80000000000, 0.72941176471, 0.48627450980]\n",
    "c[71] = [0.88627450980, 0.88627450980, 0.75686274510]\n",
    "c[72] = [0.78823529412, 0.78823529412, 0.46666666667]\n",
    "c[73] = [0.60000000000, 0.75686274510, 0.27843137255]\n",
    "c[74] = [0.46666666667, 0.67843137255, 0.57647058824]\n",
    "c[81] = [0.85882352941, 0.84705882353, 0.23921568628]\n",
    "c[82] = [0.66666666667, 0.43921568628, 0.15686274510]\n",
    "c[90] = [0.72941176471, 0.84705882353, 0.91764705882]\n",
    "c[95] = [0.43921568628, 0.63921568628, 0.72941176471]\n",
    "custom_cmap = ListedColormap(c)\n",
    "\n",
    "land = rasterio.open(\"zip://../p6/land.zip!wi.tif\")\n",
    "window = gpd.GeoSeries([data.loc[15,'geometry']]).set_crs(\"epsg:4326\").to_crs(land.crs)\n",
    "matrix,_ = mask(land, window, crop=True)\n",
    "matrix = matrix[0]\n",
    "ax.imshow(matrix, vmin=0, vmax=255, cmap = custom_cmap)"
   ]
  },
  {
   "cell_type": "code",
   "execution_count": 18,
   "id": "506907b1",
   "metadata": {},
   "outputs": [
    {
     "data": {
      "text/plain": [
       "0.7963037455950543"
      ]
     },
     "execution_count": 18,
     "metadata": {},
     "output_type": "execute_result"
    }
   ],
   "source": [
    "#q14\n",
    "# What portion of Milwaukee County is \"Open Water\"?\n",
    "open_water_matrix = matrix==11\n",
    "count = open_water_matrix.astype(int).sum() \n",
    "# notice:NOT TO COUNT 0 CELL!!!!!!\n",
    "total = (matrix!=0).astype(int).sum()   \n",
    "q14_res = count/total\n",
    "q14_res"
   ]
  },
  {
   "cell_type": "code",
   "execution_count": 19,
   "id": "e386fdc7",
   "metadata": {},
   "outputs": [
    {
     "data": {
      "text/plain": [
       "[1320092,\n",
       " 14573,\n",
       " 47659,\n",
       " 52947,\n",
       " 2540180,\n",
       " 70249,\n",
       " 407817,\n",
       " 71261,\n",
       " 46214,\n",
       " 44972,\n",
       " 1388303,\n",
       " 122876,\n",
       " 92747,\n",
       " 161618,\n",
       " 98571,\n",
       " 2725860,\n",
       " 50036,\n",
       " 108618,\n",
       " 418438,\n",
       " 265182,\n",
       " 91255,\n",
       " 30048,\n",
       " 31865,\n",
       " 62625,\n",
       " 110210,\n",
       " 22428,\n",
       " 35576,\n",
       " 96573,\n",
       " 469575,\n",
       " 18722,\n",
       " 19528,\n",
       " 74139,\n",
       " 330635,\n",
       " 30539,\n",
       " 43752,\n",
       " 37132,\n",
       " 2175794,\n",
       " 24818,\n",
       " 429510,\n",
       " 3706,\n",
       " 81554,\n",
       " 43951,\n",
       " 39155,\n",
       " 2598589,\n",
       " 91284,\n",
       " 79636,\n",
       " 91988,\n",
       " 3578,\n",
       " 17073,\n",
       " 432970,\n",
       " 47286,\n",
       " 16374,\n",
       " 1623389,\n",
       " 3599902,\n",
       " 492274,\n",
       " 76578,\n",
       " 5424296,\n",
       " 77714,\n",
       " 2132014,\n",
       " 118197,\n",
       " 72761,\n",
       " 224273,\n",
       " 22580,\n",
       " 63719,\n",
       " 244485,\n",
       " 127124,\n",
       " 39489,\n",
       " 130214,\n",
       " 20409,\n",
       " 9211,\n",
       " 74559,\n",
       " 39553]"
      ]
     },
     "execution_count": 19,
     "metadata": {},
     "output_type": "execute_result"
    }
   ],
   "source": [
    "open_water_data = []\n",
    "for i in range(len(data)):\n",
    "    window = gpd.GeoSeries([data.loc[i,'geometry']]).set_crs(\"epsg:4326\").to_crs(land.crs)\n",
    "    matrix,_ = mask(land, window, crop=True)\n",
    "    matrix = matrix[0]\n",
    "    open_water_matrix = matrix==11\n",
    "    count = open_water_matrix.astype(int).sum() \n",
    "    open_water_data.append(count)\n",
    "    \n",
    "open_water_data    "
   ]
  },
  {
   "cell_type": "code",
   "execution_count": 20,
   "id": "2c292160",
   "metadata": {},
   "outputs": [
    {
     "data": {
      "text/plain": [
       "Text(0, 0.5, 'POP')"
      ]
     },
     "execution_count": 20,
     "metadata": {},
     "output_type": "execute_result"
    },
    {
     "data": {
      "image/png": "[encoded data removed]",
      "text/plain": [
       "<Figure size 432x288 with 1 Axes>"
      ]
     },
     "metadata": {
      "needs_background": "light"
     },
     "output_type": "display_data"
    }
   ],
   "source": [
    "#q15\n",
    "# What is the Relationship Between POP100 and open_water?\n",
    "data[\"POP100\"]\n",
    "plt.scatter(open_water_data,data[\"POP100\"])\n",
    "plt.xlabel(\"Open_water Cells in County\", fontsize=12)\n",
    "plt.ylabel(\"POP\", fontsize=12)"
   ]
  },
  {
   "cell_type": "code",
   "execution_count": 21,
   "id": "30dd2d75",
   "metadata": {},
   "outputs": [],
   "source": [
    "\n",
    "tract = gpd.read_file(\"tracts.geojson\")\n",
    "tract\n",
    "\n",
    "# get features \n",
    "open_water_feature = []\n",
    "for i in range(len(tract)):\n",
    "    window = gpd.GeoSeries([tract.loc[i,'geometry']]).set_crs(\"epsg:4326\").to_crs(land.crs)\n",
    "    matrix,_ = mask(land, window, crop=True)\n",
    "    matrix = matrix[0]\n",
    "    temp = matrix==11\n",
    "    count = temp.astype(int).sum() \n",
    "    open_water_feature.append(count)\n",
    "\n",
    "developed_high = []\n",
    "for i in range(len(tract)):\n",
    "    window = gpd.GeoSeries([tract.loc[i,'geometry']]).set_crs(\"epsg:4326\").to_crs(land.crs)\n",
    "    matrix,_ = mask(land, window, crop=True)\n",
    "    matrix = matrix[0]\n",
    "    temp = matrix==24\n",
    "    count = temp.astype(int).sum() \n",
    "    developed_high.append(count)\n",
    "\n",
    "developed_open = []\n",
    "for i in range(len(tract)):\n",
    "    window = gpd.GeoSeries([tract.loc[i,'geometry']]).set_crs(\"epsg:4326\").to_crs(land.crs)\n",
    "    matrix,_ = mask(land, window, crop=True)\n",
    "    matrix = matrix[0]\n",
    "    temp = matrix==21\n",
    "    count = temp.astype(int).sum() \n",
    "    developed_open.append(count)\n",
    "    \n",
    "developed_low = []\n",
    "for i in range(len(tract)):\n",
    "    window = gpd.GeoSeries([tract.loc[i,'geometry']]).set_crs(\"epsg:4326\").to_crs(land.crs)\n",
    "    matrix,_ = mask(land, window, crop=True)\n",
    "    matrix = matrix[0]\n",
    "    temp = matrix==22\n",
    "    count = temp.astype(int).sum() \n",
    "    developed_low.append(count)\n",
    "\n",
    "grassland = []\n",
    "for i in range(len(tract)):\n",
    "    window = gpd.GeoSeries([tract.loc[i,'geometry']]).set_crs(\"epsg:4326\").to_crs(land.crs)\n",
    "    matrix,_ = mask(land, window, crop=True)\n",
    "    matrix = matrix[0]\n",
    "    temp = matrix==71\n",
    "    count = temp.astype(int).sum() \n",
    "    grassland.append(count)\n",
    "    \n"
   ]
  },
  {
   "cell_type": "code",
   "execution_count": 22,
   "id": "9226a9b9",
   "metadata": {},
   "outputs": [],
   "source": [
    "# add features columns to geodataframe\n",
    "tract[\"open_water_feature\"] = open_water_feature\n",
    "tract[\"developed_high\"] = developed_high\n",
    "tract[\"developed_open\"] = developed_open\n",
    "tract[\"developed_low\"] = developed_low\n",
    "tract[\"grassland\"] = grassland"
   ]
  },
  {
   "cell_type": "code",
   "execution_count": 23,
   "id": "8318dfa3",
   "metadata": {},
   "outputs": [
    {
     "data": {
      "text/plain": [
       "Text(0, 0.5, 'R^2 Score')"
      ]
     },
     "execution_count": 23,
     "metadata": {},
     "output_type": "execute_result"
    },
    {
     "data": {
      "image/png": "[encoded data removed]",
      "text/plain": [
       "<Figure size 432x288 with 1 Axes>"
      ]
     },
     "metadata": {
      "needs_background": "light"
     },
     "output_type": "display_data"
    }
   ],
   "source": [
    "#q16\n",
    "# How do the models you selected compare under cross validation?\n",
    "train, test = train_test_split(tract, random_state=320, test_size=0.25)\n",
    "model1 = LinearRegression()   \n",
    "model2 = Pipeline([\n",
    "    (\"poly\", PolynomialFeatures(include_bias=False)),\n",
    "    (\"lr\", LinearRegression()),\n",
    "])\n",
    "\n",
    "\n",
    "xcols = ['open_water_feature', 'developed_high','developed_open','developed_low','grassland']\n",
    "\n",
    "scores1 = cross_val_score(model1, train[xcols], train[\"POP100\"])\n",
    "scores2 = cross_val_score(model2, train[xcols], train[\"POP100\"])\n",
    "\n",
    "avg = pd.Series({\"Model1\": scores1.mean(), \"Model2\": scores2.mean()})\n",
    "std = pd.Series({\"Model1\": scores1.std(), \"Model2\": scores2.std()})\n",
    "ax = avg.plot.bar(yerr=std)\n",
    "ax.set_ylabel(\"R^2 Score\")\n"
   ]
  },
  {
   "cell_type": "code",
   "execution_count": 1,
   "id": "ad561b2f",
   "metadata": {},
   "outputs": [
    {
     "ename": "NameError",
     "evalue": "name 'model2' is not defined",
     "output_type": "error",
     "traceback": [
      "\u001b[0;31m---------------------------------------------------------------------------\u001b[0m",
      "\u001b[0;31mNameError\u001b[0m                                 Traceback (most recent call last)",
      "Input \u001b[0;32mIn [1]\u001b[0m, in \u001b[0;36m<module>\u001b[0;34m\u001b[0m\n\u001b[1;32m      1\u001b[0m \u001b[38;5;66;03m#q17\u001b[39;00m\n\u001b[1;32m      2\u001b[0m \u001b[38;5;66;03m# How does your recommended model score against the test dataset?\u001b[39;00m\n\u001b[1;32m      3\u001b[0m \n\u001b[1;32m      4\u001b[0m \u001b[38;5;66;03m# Answer: I would recommend the second model, since it has higher explained variance\u001b[39;00m\n\u001b[0;32m----> 5\u001b[0m \u001b[43mmodel2\u001b[49m\u001b[38;5;241m.\u001b[39mfit(train[xcols], train[\u001b[38;5;124m\"\u001b[39m\u001b[38;5;124mPOP100\u001b[39m\u001b[38;5;124m\"\u001b[39m])\n\u001b[1;32m      6\u001b[0m model2\u001b[38;5;241m.\u001b[39mscore(test[xcols], test[\u001b[38;5;124m\"\u001b[39m\u001b[38;5;124mPOP100\u001b[39m\u001b[38;5;124m\"\u001b[39m])\n",
      "\u001b[0;31mNameError\u001b[0m: name 'model2' is not defined"
     ]
    }
   ],
   "source": [
    "#q17\n",
    "# How does your recommended model score against the test dataset?\n",
    "\n",
    "# Answer: I would recommend the second model, since it has higher explained variance\n",
    "model2.fit(train[xcols], train[\"POP100\"])\n",
    "model2.score(test[xcols], test[\"POP100\"])"
   ]
  },
  {
   "cell_type": "code",
   "execution_count": null,
   "id": "1174e9cc",
   "metadata": {},
   "outputs": [],
   "source": []
  }
 ],
 "metadata": {
  "kernelspec": {
   "display_name": "Python 3 (ipykernel)",
   "language": "python",
   "name": "python3"
  },
  "language_info": {
   "codemirror_mode": {
    "name": "ipython",
    "version": 3
   },
   "file_extension": ".py",
   "mimetype": "text/x-python",
   "name": "python",
   "nbconvert_exporter": "python",
   "pygments_lexer": "ipython3",
   "version": "3.8.10"
  }
 },
 "nbformat": 4,
 "nbformat_minor": 5
}
